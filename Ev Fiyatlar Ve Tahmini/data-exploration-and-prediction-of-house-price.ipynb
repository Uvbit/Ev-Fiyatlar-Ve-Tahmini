{
 "metadata": {
  "kernelspec": {
   "display_name": "R",
   "name": "ir",
   "language": "R"
  },
  "language_info": {
   "mimetype": "text/x-r-source",
   "file_extension": ".r",
   "version": "3.4.2",
   "pygments_lexer": "r",
   "name": "R",
   "codemirror_mode": "r"
  }
 },
 "nbformat_minor": 4,
 "nbformat": 4,
 "cells": [
  {
   "cell_type": "markdown",
   "source": [
    "<br>\n",
    "**<font face=\"calibri\" color=\"black\" size=\"6\">Veri Keşfi ve Ev Fiyat Tahmini</font>**\n",
    "<br><br>\n",
    "**<font face=\"calibri\"size=\"4\" color=\"black\" ></font>** <br> <br> <br> <br>\n",
    "**<font face=\"calibri\" color=\"blue\" size=\"5\">Bölüm I Giriş</font>**\n",
    "<br><br>\n",
    "**<font face=\"calibri\" size=\"4\" color=\"black\" >Amaç</font>**\n",
    "<br><br><font face=\"calibri\" color=\"black\" size=\"4\">Evlerin satış fiyatını tahmin edin. </font>\n",
    "<br><br><br>\n",
    "**<font face=\"calibri\" size=\"4\"color=\"black\" >Veri Kümesi Açıklaması</font>**\n",
    "<br><br><font face=\"calibri\" color=\"black\" size=\"4\">Bu veri setinde, Ames, Iowa'daki konut evlerinin (neredeyse) her yönünü açıklayan 79 açıklayıcı değişkenle 1460 gözlem vardır. Açıklayıcı değişkenler arasında Id, MSSubClass, LotFrontage gibi 37 tamsayı değişken ve MSZoning, Street, LotShape gibi 43 faktör değişkeni yer almaktadır. Tanımlayıcı analiz ve nicel analiz, modellere bağlı olarak alt kümelerini kullanacaktır.</font> \n",
    "<br><br>\n",
    "<font face=\"calibri\" color=\"black\" size=\"4\">First part of this report: <b>Descriptive and Exploratory Analysis</b>\n",
    "<br><br>Second part of this report:  <b>Öngörü Analizi. </b></font> \n",
    "<img src=\"http://sturdyhome.com/wp-content/uploads/2013/09/House-images-2013-3.jpg\n",
    "\">\n"
   ],
   "metadata": {
    "_cell_guid": "c1c3bd1f-ea9a-4b58-a21f-320109f87b39",
    "_uuid": "39e4e18a80a9485df07fb3fb981541117a09700d",
    "_execution_state": "idle"
   }
  },
  {
   "cell_type": "markdown",
   "source": [
    "**<font face=\"calibri\" color=\"blue\" size=\"5\">Bölüm II Veri Değerlendirmesi</font>**"
   ],
   "metadata": {
    "_cell_guid": "83d86e95-b4db-46d2-a8b6-ebeb7ed45945",
    "_uuid": "ec187b22e7f289ca7756f22935f2198b46dc27e3"
   }
  },
  {
   "cell_type": "markdown",
   "source": [
    "**<font face=\"calibri\" color=\"blue\" size=\"4\">2.1 Verileri İçe Aktar</font>**"
   ],
   "metadata": {
    "_cell_guid": "cbcdcdcc-3c56-469c-a997-bf03e622ea31",
    "_uuid": "652592f804ac0f86980d78eec7197b27fcafe242"
   }
  },
  {
   "cell_type": "code",
   "source": [
    "library(ggplot2) # Data visualization\n",
    "library(readr) # CSV file I/O, e.g. the read_csv function\n",
    "library(gplots)\n",
    "library(repr)\n",
    "\n",
    "# Change plot size to 9 x 6\n",
    "options(repr.plot.width=9, repr.plot.height=6)\n",
    "\n",
    "list.files(\"../input\")"
   ],
   "metadata": {
    "_cell_guid": "c2b7d551-d157-4f6b-8bab-e995386f0b2a",
    "_uuid": "06ca89d10d1e70ba561711f053dbab15e63606dc",
    "_execution_state": "idle"
   },
   "execution_count": null,
   "outputs": []
  },
  {
   "cell_type": "code",
   "source": [
    "train <- read.csv(\"../input/train.csv\")"
   ],
   "metadata": {
    "_cell_guid": "257c1083-fa7c-460f-bfc7-58b7b5563a9b",
    "_uuid": "a9a22841c86398b2f8dbd6db59133d1a94f73ed8"
   },
   "execution_count": null,
   "outputs": []
  },
  {
   "cell_type": "markdown",
   "source": [
    "**<font face=\"calibri\" color=\"blue\" size=\"4\">2.2 Eksik Verileri Kontrol Edin</font>**"
   ],
   "metadata": {
    "_cell_guid": "e49c1f0f-f04e-4fff-a78c-f8dc9792204e",
    "_uuid": "9d9dc6484d8c1137ce654d1e1ed4ef560428969e"
   }
  },
  {
   "cell_type": "markdown",
   "source": [
    "<font face=\"calibri\" color=\"black\" size=\"4\">Bu veri kümesindeki her satırın eksik değere sahip olduğunu bulduk ve bununla daha sonra ilgileneceğiz. </font>"
   ],
   "metadata": {
    "_cell_guid": "b2ee6d42-b3ed-46c7-b981-bc34fd915c08",
    "_uuid": "2205a480d3fc91c0492352dd9364bc28f09ba410"
   }
  },
  {
   "cell_type": "code",
   "source": [
    "# list rows of data that have missing values \n",
    "missing_row <- train[!complete.cases(train),]\n",
    "head(missing_row)"
   ],
   "metadata": {
    "_cell_guid": "ed2ae0b8-31dc-41ee-a98c-58cfdfe30fb4",
    "_uuid": "e4672e7b755a572b3b14706b5c6474eabdae8e6a",
    "_execution_state": "idle"
   },
   "execution_count": null,
   "outputs": []
  },
  {
   "cell_type": "code",
   "source": [
    "nrow(missing_row)"
   ],
   "metadata": {
    "_cell_guid": "edc4844c-f315-49be-ae9c-9dc43b42ccfd",
    "_uuid": "dd025c9e31e0a3275f99001eebde6a928690b09f",
    "_execution_state": "idle"
   },
   "execution_count": null,
   "outputs": []
  },
  {
   "cell_type": "markdown",
   "source": [
    "**<font face=\"calibri\" color=\"blue\" size=\"4\">2.3 Değişkenleri Seçin</font>**\n",
    "<br><br>\n",
    "<font face=\"calibri\" color=\"black\" size=\"4\"><b>Step 1</b>: ev fiyatı üzerinde daha büyük etkiye sahip olabilecek değişkenleri seçin <br><br> <b>2. Adım</b>: tahmin için tren veri kümesinin alt kümesini oluşturun. \n",
    "<br><br></font>"
   ],
   "metadata": {
    "_cell_guid": "fd91b63b-61d9-4176-b7f7-d97a8185e597",
    "_uuid": "31e735b50c74a2c02b6c3fb62f19c0c684f808c5"
   }
  },
  {
   "cell_type": "code",
   "source": [
    "## show all variable names\n",
    "var_name <- names(train)\n",
    "var_name"
   ],
   "metadata": {
    "scrolled": true,
    "_cell_guid": "cb54bbef-3cc8-49d4-ae93-17ca66160493",
    "_uuid": "75ea3213cc40b2eb80934e1145a1b75aec79c40d"
   },
   "execution_count": null,
   "outputs": []
  },
  {
   "cell_type": "code",
   "source": [
    "#Here, we select these important variables by creating a vector that contains variable names\n",
    "select_var <- c('Id','MSZoning','Utilities', 'Neighborhood','BldgType','HouseStyle',\n",
    "                'OverallQual','OverallCond','YearBuilt', 'ExterQual','ExterCond',\n",
    "                'BsmtQual','BsmtCond','TotalBsmtSF','Heating','HeatingQC', \n",
    "                'CentralAir','Electrical','GrLivArea','BedroomAbvGr','KitchenAbvGr',\n",
    "                'KitchenQual','TotRmsAbvGrd','Functional','Fireplaces','FireplaceQu',\n",
    "               'GarageArea','GarageQual','GarageCond','OpenPorchSF','PoolArea',\n",
    "                'Fence','MoSold','YrSold','SaleType','SaleCondition','SalePrice') "
   ],
   "metadata": {
    "_cell_guid": "5a025087-b999-4b97-a1f7-04c93d2f220f",
    "_uuid": "bb565fe65ad4106231efb321c2959874da9c0f2c",
    "_execution_state": "idle"
   },
   "execution_count": null,
   "outputs": []
  },
  {
   "cell_type": "code",
   "source": [
    "# construct subset of train dataset that is used for prediction\n",
    "select_train <- train[,select_var]\n",
    "head(select_train)"
   ],
   "metadata": {
    "scrolled": true,
    "_cell_guid": "6489337f-d610-4604-b14e-7165efa8684f",
    "_uuid": "bd69a5185e210b3e823dc92c5495823ee2564dde",
    "_execution_state": "idle"
   },
   "execution_count": null,
   "outputs": []
  },
  {
   "cell_type": "code",
   "source": [
    "summary(select_train)"
   ],
   "metadata": {
    "scrolled": true,
    "_cell_guid": "221ec7c2-7d39-4bb7-ac2b-84f15c517aa4",
    "_uuid": "7ddc89de81fc7780429c59daa23c1c6d095b5489",
    "_execution_state": "idle"
   },
   "execution_count": null,
   "outputs": []
  },
  {
   "cell_type": "markdown",
   "source": [
    "<font face=\"calibri\" color=\"black\" size=\"4\">Bu veri setini daha iyi anlamak için, tüm importabt değişkenlerini minimum, ilk çeyrek, medyan, ortalama, üçüncü nicelik ve maksimum değer cinsinden özetledim. </font>"
   ],
   "metadata": {
    "_cell_guid": "3346cfb2-3456-4307-89ca-96e00351e8aa",
    "_uuid": "1876dec80144c2d3aee27c3a50b3e89578bfae2f"
   }
  },
  {
   "cell_type": "markdown",
   "source": [
    "**<font face=\"calibri\" color=\"blue\" size=\"4\">2.4 SalePrice'ın tanımlayıcı ve keşifsel analizi</font><br><br>** \n",
    "\n",
    "<font face=\"calibri\" color=\"Black\" size=\"4\">SalePrice, hedef değişkenimiz ve aynı zamanda tahmin için bağımlı değişkenimizdir. Doğrusal Regresyon varsayımlarına göre veriler normal dağılmalıdır. SalePrice dağılımını kontrol ederek, daha iyi tahmin yapmak için log terimi gibi doğrusal olmayan bir dönüşüme ihtiyacımız olup olmadığına karar verebiliriz. </font>\n"
   ],
   "metadata": {
    "_cell_guid": "68ccad76-6cf4-4614-b79b-feb88a0e6c35",
    "_uuid": "e169bdf05b8eb4f31591490561911861a78c826e",
    "_execution_state": "idle"
   }
  },
  {
   "cell_type": "markdown",
   "source": [
    "**<font face=\"calibri\" color=\"blue\" size=\"4\">2.4.1 Hedef Değişken Özeti: Satış Fiyatı</font>**"
   ],
   "metadata": {
    "_cell_guid": "9c2ba386-7b69-45f2-a5db-e2d531769ab1",
    "_uuid": "e664e73a12758349ddcf1fc5fcbd69024b0a266b"
   }
  },
  {
   "cell_type": "code",
   "source": [
    "# Five number summary\n",
    "summary(select_train$SalePrice)"
   ],
   "metadata": {
    "scrolled": true,
    "_cell_guid": "384c4d26-2098-4332-81fe-b1203da592b9",
    "_uuid": "3b1dca16b7ef9766ad4b6d37b96184b365b05c01"
   },
   "execution_count": null,
   "outputs": []
  },
  {
   "cell_type": "code",
   "source": [
    "# Draw a higtogram to figure out the distribution of SalePrice\n",
    "options(scipen=10000)\n",
    "ggplot(select_train, aes(x = SalePrice, fill = ..count..)) +\n",
    "  geom_histogram(binwidth = 5000) +\n",
    "  ggtitle(\"Figure 1 Histogram of SalePrice\") +\n",
    "  ylab(\"Count of houses\") +\n",
    "  xlab(\"Housing Price\") + \n",
    "  theme(plot.title = element_text(hjust = 0.5))"
   ],
   "metadata": {
    "_cell_guid": "8d564d0b-e2bd-471d-8e7b-b27fa0f1ea8a",
    "_uuid": "cf034200760a9aa2d3fc7f73ea306cf1c9a65ac7"
   },
   "execution_count": null,
   "outputs": []
  },
  {
   "cell_type": "markdown",
   "source": [
    "<font face=\"calibri\" size=\"4\">Yukarıdaki histogramdan, hedef değişkenimiz olan SalePrice'ın dağılımı sağa doğru çarpık. Bu nedenle, lineer regresyon için bir SalePrice günlük terimi oluşturulmalıdır. Burada buna lSalePrice adını veriyoruz.  </font>"
   ],
   "metadata": {
    "_cell_guid": "0e62aa9c-2152-474b-930c-5929e8fb1f11",
    "_uuid": "787b17c6146e6f8f7461df847e28c763ba779d45"
   }
  },
  {
   "cell_type": "code",
   "source": [
    "#log term of SalePrice\n",
    "select_train$lSalePrice <- log(select_train$SalePrice)"
   ],
   "metadata": {
    "_cell_guid": "23ecc9f5-41bb-4547-9a9c-4735ae5a1ea7",
    "_uuid": "ccfb1f5218a3aa7b40b1c62a26c3f7d3673fef19"
   },
   "execution_count": null,
   "outputs": []
  },
  {
   "cell_type": "code",
   "source": [
    "# Draw a higtogram to figure out the distribution of log SalePrice\n",
    "\n",
    "ggplot(select_train, aes(x = lSalePrice, fill = ..count..)) +\n",
    "  geom_histogram(binwidth = 0.05) +\n",
    "  ggtitle(\"Figure 2 Histogram of log SalePrice\") +\n",
    "  ylab(\"Count of houses\") +\n",
    "  xlab(\"Housing Price\") + \n",
    "  theme(plot.title = element_text(hjust = 0.5))"
   ],
   "metadata": {
    "_cell_guid": "f4346d86-e305-42bd-96d4-00d7f5f0039a",
    "_uuid": "91bf3d50f7d3d5601d9f25df5fe0043b3b16a239"
   },
   "execution_count": null,
   "outputs": []
  },
  {
   "cell_type": "markdown",
   "source": [
    "![](http://)<font face=\"calibri\" color=\"Black\" size=\"4\">Harika! Sabitlemeden sonra, <b>lSalePrice</b> normal olarak dağıtılır. SalePrice'ın bu günlük terimini daha sonra modellerde kullanacağız.</font>"
   ],
   "metadata": {
    "_cell_guid": "d64ddc7a-004e-44c2-9dd6-ebac4a2df80f",
    "_uuid": "d6e791629893bc84c7053b3ffb6c9cc9025f9bf6"
   }
  },
  {
   "cell_type": "markdown",
   "source": [
    "**<font face=\"calibri\" color=\"blue\" size=\"4\">2.4.2 MSZoning tarafından SalePrice dağıtımını keşfedin</font>**\n"
   ],
   "metadata": {
    "_cell_guid": "01310e49-ddf1-4f35-a826-9998cd1e05a3",
    "_uuid": "0d8b8f4602a545ec54a82dd23b3996cc11b2fd79"
   }
  },
  {
   "cell_type": "markdown",
   "source": [
    "<font face=\"calibri\" size=\"4\">  Konut fiyatı söz konusu olduğunda, evin değeri genellikle iki tür unsurla ilişkilidir: iç ve dış. <b>İç unsurlar</b>, toplam alan, oda sayısı gibi evin temel özellikleridir. <b>Dış unsurlara</b> gelince, çevre en önemli faktörlerden biridir. \n",
    "<br><br>Öncelikle veri kümemizde konut ortamını gösterebilecek değişkeni bulalım. Burada bu gösterge olarak <b>MSZoning </b>'i seçiyorum. Bu bir kukla değişken ve tanımlaması: </ yazı tipi>\n",
    "<br><br>\n",
    "<font face=\"calibri\" size=\"4\">MSBölgeleme: Satışın genel imar sınıflandırmasını belirtir.</font>\n",
    "\t\t\n",
    "       A\tAgriculture\n",
    "       C\tCommercial\n",
    "       FV\tFloating Village Residential\n",
    "       I\t Industrial\n",
    "       RH\tResidential High Density\n",
    "       RL\tResidential Low Density\n",
    "       RP\tResidential Low Density Park \n",
    "       RM\tResidential Medium Density\n",
    "       \n",
    "<font face=\"calibri\" size=\"4\">Bu nedenle, bu bölümde MSZoning ile hedef değişkenimiz SalePrice arasındaki ilişkiyi inceleyeceğim.   </font>"
   ],
   "metadata": {
    "_cell_guid": "19e901de-998a-4ee7-8d01-e68397af7d93",
    "_uuid": "f05acc3eace6762a6fae39363eb3a72fc9bf7887"
   }
  },
  {
   "cell_type": "markdown",
   "source": [
    "<font face=\"calibri\" size=\"4\">Öncelikle <b>MSZoning</b>'e yakından bakalım. Kukla bir değişken olduğu için her kategorideki toplam ev sayısını merak ediyorum. </font>"
   ],
   "metadata": {
    "_cell_guid": "a9d0be6d-e9c1-42ae-9837-f052fd4ec84b",
    "_uuid": "f8a2514a6d322ab5453686245a935820b80fba87"
   }
  },
  {
   "cell_type": "code",
   "source": [
    "# count house by MSZoning\n",
    "options(repr.plot.width=5, repr.plot.height=4)\n",
    "ggplot(select_train, aes(x = MSZoning, fill = MSZoning )) + \n",
    "geom_bar()+ \n",
    "scale_fill_hue(c = 80)+\n",
    "ggtitle(\"Figure 3 Distribution of MSZoning\")+\n",
    "theme(plot.title = element_text(hjust = 0.5),legend.position=\"right\", legend.background = element_rect(fill=\"grey90\",\n",
    "                                                                                                           size=0.5, linetype=\"solid\", \n",
    "                                                                                                           colour =\"black\"))+\n",
    "geom_text(stat='count',aes(label=..count..),vjust=-0.25)"
   ],
   "metadata": {
    "_cell_guid": "3543ac8c-9821-4cd6-90ea-be1fc8ab8848",
    "_uuid": "20f04acfdb9a9af34089e293765a46e0567f673c",
    "_execution_state": "idle"
   },
   "execution_count": null,
   "outputs": []
  },
  {
   "cell_type": "code",
   "source": [
    "# Distribution of MSZoning\n",
    "table(select_train$MSZoning)"
   ],
   "metadata": {
    "_cell_guid": "2b07b26f-9df0-4738-8a9f-349f62df1bd0",
    "_uuid": "6daac7de206ed61b79b71532a8e3bd9edcb37051"
   },
   "execution_count": null,
   "outputs": []
  },
  {
   "cell_type": "markdown",
   "source": [
    "<font face=\"calibri\" size=\"4\">Yukarıdaki grafik ve tablodan, bu veri setindeki evlerin çoğunun Konut Düşük Yoğunluklu (1151 konut) bölgesinde inşa edildiği ve bunu Konut Orta Yoğunluklu (218 konut) takip ettiği açıktır. Ticari, Yüzen Köy ve Konut Yüksek Yoğunlukta birkaç ev inşa edilmiştir. \n",
    "<br><br>\n",
    " Konut Düşük Yoğunluklu ve Konut Orta Yoğunluklu kategorilerine çok sayıda konut geldiği için, konut fiyat analizinde bu iki alana daha fazla dikkat edilmelidir. </font>\n",
    " <br><br>"
   ],
   "metadata": {
    "_cell_guid": "a8b7ccb3-d038-46be-aa1b-c99216e7a452",
    "_uuid": "aacc542a1c23aabdff568d51438bb9bbe5bc4ff8"
   }
  },
  {
   "cell_type": "markdown",
   "source": [
    "<font face=\"calibri\" size=\"4\">Bir de hedef değişkenimizi analize ekleyelim. Konut fiyatları her kategoride nasıl görünüyor? Burada, her bir MSBölgelemede fiyatların dağılımını göstermek için boxplot kullanıyorum. </font>"
   ],
   "metadata": {
    "_cell_guid": "09ccbc94-706b-4745-8bce-9e9ae8df6e9d",
    "_uuid": "205e2c3836d740a492b32d7c7c0c4bd8d6aba2a0"
   }
  },
  {
   "cell_type": "code",
   "source": [
    "# Change plot size to 9 x 6\n",
    "options(repr.plot.width=9, repr.plot.height=6)\n",
    "#boxplot of SalePrice by MSZoning\n",
    "#add average value of SalePrice as red point\n",
    "ggplot(select_train, aes(x=MSZoning, y=SalePrice, fill=MSZoning)) + \n",
    "  geom_boxplot(alpha=0.3) +\n",
    "  stat_summary(fun.y=mean, geom=\"point\", shape=20, size=4, color=\"red\", fill=\"red\")+\n",
    "  theme(legend.position=\"none\")+\n",
    "  ggtitle(\"Figure 4 Boxplot of SalePrice by MSZoning\")+\n",
    "  theme(plot.title = element_text(hjust = 0.5))"
   ],
   "metadata": {
    "_cell_guid": "282e4d7d-be5b-4226-9a52-bdc5fc819c69",
    "_uuid": "1dd97a30ba7ce5e9056822da63e97c1c041f7ba3",
    "_execution_state": "idle"
   },
   "execution_count": null,
   "outputs": []
  },
  {
   "cell_type": "markdown",
   "source": [
    "<font face=\"calibri\" size=\"4\">Yukarıdaki grafik, SalePrice'ın MSZoning'e göre dağılımını göstermektedir. \"Yüzen Köy Konut\" bölgesindeki satışlar en yüksek ortalama satış fiyatına sahiptir ve onu \"Alçak Yoğunluklu Konut\" izlemektedir. \"Ticari\" satışlar ise en düşük ortalama satış fiyatına sahiptir. </font> \n",
    "<br><br>\n",
    "<font face=\"calibri\" size=\"4\">Ortalama Satış Fiyatının en düşük olduğu yerin ticari alan, en yüksek olduğu yerin ise köy bölgesi olması oldukça garip. Muhtemel bir açıklama, SalePrice'ın evlerin büyüklüğüyle de ilgili olması olabilir. Onaylamak için, bu alandaki ortalama boyutu inceleyelim.</font> "
   ],
   "metadata": {
    "_cell_guid": "ded45663-395f-474b-8faf-961e8bd75b21",
    "_uuid": "8b436606f0ef7d0b8eb4bdb365b2caca2df02e58",
    "_execution_state": "idle"
   }
  },
  {
   "cell_type": "markdown",
   "source": [
    "<font face=\"calibri\" size=\"4\">Değişken, bu veri kümesindeki boyutu gösterir. <b>GrLivArea</b>. \n",
    "  <br><br>\n",
    " <b>Definition</b>: Zemin üstü yaşam alanı fit kare</font>\n",
    "  <br><br>\n",
    " "
   ],
   "metadata": {
    "_cell_guid": "00f3bacf-c796-466d-9bf2-2a74a60d1ec3",
    "_uuid": "557b8852f9a9a7f23676c9d9d1cb955195ac6bb8"
   }
  },
  {
   "cell_type": "code",
   "source": [
    "# Display the average hosue size in each area\n",
    "library(plyr)\n",
    "\n",
    "ddply(train, .(MSZoning), summarize,  size=mean(GrLivArea))"
   ],
   "metadata": {
    "_cell_guid": "26e81c1e-5755-493e-9fdc-a56c02622edf",
    "_uuid": "e5647fb71006ece4373f32f21a2b708a3386cb86"
   },
   "execution_count": null,
   "outputs": []
  },
  {
   "cell_type": "markdown",
   "source": [
    "<font face=\"calibri\" size=\"4\">Ticari'deki evlerin ortalama büyüklüğünün, yukarıdaki varsayımımızı doğrulayan Yüzen Köy bölgesinden çok daha küçük olduğu açıktır. </font> "
   ],
   "metadata": {
    "_cell_guid": "3e211426-3fc8-4af1-adfd-fcb67cafff73",
    "_uuid": "19749f7d4bf9a107ebecdd05c26098cebbf6fa55"
   }
  },
  {
   "cell_type": "markdown",
   "source": [
    "**<font face=\"calibri\" color=\"blue\" size=\"4\">2.4.3 BldfType'a göre SalePrice dağıtımını keşfedin</font>**"
   ],
   "metadata": {
    "_cell_guid": "eb037dee-c4ff-4424-b6f7-92cd19ee49dc",
    "_uuid": "62f00437f7b6b7a8d426a8f885626c1aff05c370"
   }
  },
  {
   "cell_type": "markdown",
   "source": [
    "<font face=\"calibri\" size=\"4\">Ardından, SalePrice'ı farklı BldfType kategorileriyle açıklayacağız. </font>\n",
    "<br><br>\n",
    "<font face=\"calibri\" size=\"4\">BldgType: Konut tipi\n",
    "    \n",
    "       1Fam\tSingle-family Detached\t\n",
    "       2FmCon\tTwo-family Conversion; originally built as one-family dwelling\n",
    "       Duplx\tDuplex\n",
    "       TwnhsE\tTownhouse End Unit\n",
    "       TwnhsI\tTownhouse Inside Unit\n"
   ],
   "metadata": {
    "_cell_guid": "5bcf36e4-d35f-4c7e-902c-ccd747646d7d",
    "_uuid": "63178c35561f48c7089394215587882509d6b2d0"
   }
  },
  {
   "cell_type": "markdown",
   "source": [
    "<font face=\"calibri\" size=\"4\">BldgType hakkında hızlı bir fikir edinmek için, her kategorideki evleri saymak ve aynı zamanda maksimum ve minimum SalePrice'ı göstermek için burada bir tablo kullanıyorum. </font >"
   ],
   "metadata": {
    "_cell_guid": "8f12582e-8bf4-48d8-9420-0a0f4a8862ee",
    "_uuid": "6dcdd3b83c290e17c2a19d25d52ea50a7c7f2eca"
   }
  },
  {
   "cell_type": "code",
   "source": [
    "library(plyr)\n",
    "ddply(train, .(BldgType), summarize,Total = length(BldgType),Max_price=max(SalePrice),Min_price=min(SalePrice))"
   ],
   "metadata": {
    "_cell_guid": "563c407a-1420-40d4-854b-a8357356304b",
    "_uuid": "0bbda32c1d627292b45c09efc398b0e684b60686"
   },
   "execution_count": null,
   "outputs": []
  },
  {
   "cell_type": "markdown",
   "source": [
    "<font face=\"calibri\" size=\"4\">Önceki bölümde MSZoning'i tanımlamak için Boxplot'u kullandım, BldgType için ise özet sayılardan çok dağıtımla ilgilendiğim için Histogram'ı kullanacağım. </font>"
   ],
   "metadata": {
    "_cell_guid": "80680a85-a448-400e-b292-145dc0127a63",
    "_uuid": "5d3555a546d4d9215f6f7c7f418d2e314c168df3"
   }
  },
  {
   "cell_type": "code",
   "source": [
    "# historgram of housing price by BldgType \n",
    "ggplot(select_train, aes(SalePrice)) +\n",
    " geom_histogram(aes(fill = BldgType), position = position_stack(reverse = TRUE), binwidth = 20000) +\n",
    " coord_flip() + ggtitle(\"Figure 5 Histogram of SalePrice\") +\n",
    " ylab(\"Count\") +\n",
    " xlab(\"Housing Price\") + \n",
    " theme(plot.title = element_text(hjust = 0.5),legend.position=c(0.9,0.8), legend.background = element_rect(fill=\"grey90\",\n",
    "                                                                                                           size=0.5, linetype=\"solid\", \n",
    "                                                                                                           colour =\"black\"))"
   ],
   "metadata": {
    "_cell_guid": "7a9309dc-b323-40db-8cd7-78b304f03105",
    "_uuid": "e887570ecfff1d486e67a41aa7930c07db3217a4"
   },
   "execution_count": null,
   "outputs": []
  },
  {
   "cell_type": "markdown",
   "source": [
    "<font face=\"calibri\" size=\"4\">Yukarıdaki grafik hakkında daha fazla düşünce: \n",
    "1. Müstakil Müstakil tipindeki evlerin fiyatlarının çoğu 50000 ile 300000 aralığındadır\n",
    "2. İki Aileli Dönüşüm, Dubleks, Şehir Evi Bitiş Birimi ve Şehir Evi İç Ünite için, ev fiyatlarının çoğu 75.000 ile 210.000 arasında değişmektedir\n",
    "3. Hem en yüksek hem de en düşük ev fiyatı Müstakil ev tipindedir\n"
   ],
   "metadata": {
    "_cell_guid": "74ebc67d-f7cb-4e3a-aa78-236eb50b415e",
    "_uuid": "bce518c8b040040e3af6266b26611dc48e1b2d25"
   }
  },
  {
   "cell_type": "markdown",
   "source": [
    "**<font face=\"calibri\" color=\"blue\" size=\"4\">2.4.4 SalePrice'ın GeneralQual tarafından dağıtımını keşfedin</font>**"
   ],
   "metadata": {
    "_cell_guid": "df7f97fc-ed58-4686-aacc-f95a789d2d3d",
    "_uuid": "b5a3254e235f56a79c2654696de5ca3b1c19a21d"
   }
  },
  {
   "cell_type": "markdown",
   "source": [
    "<font face=\"calibri\" size=\"4\">Sonuncusu, GeneralQual'dır. \n",
    "    \n",
    " GeneralQual: Evin genel malzemesini ve bitişini derecelendirir\n",
    "\n",
    "       10\tVery Excellent\n",
    "       9\tExcellent\n",
    "       8\tVery Good\n",
    "       7\tGood\n",
    "       6\tAbove Average\n",
    "       5\tAverage\n",
    "       4\tBelow Average\n",
    "       3\tFair\n",
    "       2\tPoor\n",
    "       1\tVery Poor"
   ],
   "metadata": {
    "_cell_guid": "6ac99f7e-b365-4030-a331-e9d1d2dec05f",
    "_uuid": "a761af2a6db0c36e72a3e9251d0cd31329225a98"
   }
  },
  {
   "cell_type": "code",
   "source": [
    "ggplot(select_train, aes(x = SalePrice,fill = as.factor(OverallQual))) +\n",
    "  geom_histogram(position = \"stack\", binwidth = 10000) +\n",
    "  ggtitle(\"Figure 6 Histogram of SalePrice\") +\n",
    "  ylab(\"Count\") +\n",
    "  xlab(\"Housing Price\") + \n",
    "  scale_fill_discrete(name=\"OverallQual\")+\n",
    "  theme(plot.title = element_text(hjust = 0.5), legend.position=c(0.9,0.7), legend.background = element_rect(fill=\"grey90\",\n",
    "                                                                                                           size=0.5, linetype=\"solid\", \n",
    "                                                                                                           colour =\"black\"))"
   ],
   "metadata": {
    "_cell_guid": "3cd6873c-493e-403d-8426-ddb4b3bfd368",
    "_uuid": "1514940fa6d4f7ca0c7fa012ee7b8bafe12f8fe1"
   },
   "execution_count": null,
   "outputs": []
  },
  {
   "cell_type": "markdown",
   "source": [
    "<font face=\"calibri\" size=\"4\">Yukarıdaki grafikte gördüğümüz gibi: \n",
    " 1. Evlerin çoğu \"Ortalamanın Altında\", \"Ortalama\", \"Ortalamanın Üstünde\" ve \"İyi\"\n"ye eşdeğer olan Genel Kalite 4,5,6 ve 7'ye sahiptir,
    " 2. Genel kalite oranı ne kadar yüksek olursa, konut satış fiyatı da o kadar yüksek olur\n",
    " 3. Genel kalitenin her bir oran seviyesi için, ev fiyatının dağılımı neredeyse simetriktir"
   ],
   "metadata": {
    "_cell_guid": "9a05a6c0-60aa-44c1-b5b7-9c5259799597",
    "_uuid": "4b484022960fde5b272481a7d07c507219de4fb1"
   }
  },
  {
   "cell_type": "markdown",
   "source": [
    "**<font face=\"calibri\" color=\"blue\" size=\"4\">2.5 Ne tür bir ev daha yüksek fiyata satılacak?</font>**"
   ],
   "metadata": {
    "_cell_guid": "efe8983a-fb53-4e0c-b573-a18dcc4ab925",
    "_uuid": "755aabb91f0c6a9f79b6332ca3a7a5b099c9f832"
   }
  },
  {
   "cell_type": "markdown",
   "source": [
    "**<font face=\"calibri\" color=\"blue\" size=\"4\">2.5.1 Korelasyon Keşfi</font>**"
   ],
   "metadata": {
    "_cell_guid": "a90dac80-236e-4e96-9486-d52a5e6cca9c",
    "_uuid": "a4d3e1a83ebc09f227b9367d7820b8eccd46a856"
   }
  },
  {
   "cell_type": "markdown",
   "source": [
    "<font face=\"calibri\" size=\"4\">Önce değişkenleri seçelim. \n",
    "<br><br>Variables for correlation exploration: SalePrice','OverallQual','OverallCond','YearBuilt','ExterCond2','TotalBsmtSF','HeatingQC2' </font>\n"
   ],
   "metadata": {
    "_cell_guid": "90585786-cca2-4b07-8dfc-3dd4107fff4a",
    "_uuid": "d6586138dd4c139a299d63f5e3dcd19c38992bac"
   }
  },
  {
   "cell_type": "markdown",
   "source": [
    "<font face=\"calibri\" size=\"4\">In order to have a clear view of how the key variables relate to SalePrice, I decide to use Correlation Heatmap to plot correlation coefficients. \n",
    "<br><br>But before plotting heatmap,  one more step is needed-- feature engineering. In section I, we learn that some variables are factors, in order to buid heatmap we need to convert them into numerics. \n",
    "<br><br>Since these factor varaibles evaluate quality of house with ordered levels, such as  \"Ex\", \"Fa\",\"Gd\", \"TA\", and \"Po\", here, I match them to numbers: \"1\",\"2\",\"3\",\"4\", and \"5\".   That is, the smaller number, the higher level. After transforming, all the variables used for heatmap are numberic. </font>"
   ],
   "metadata": {
    "_cell_guid": "17c77aea-edef-4c71-b8fc-2e73e9d939a2",
    "_uuid": "c0dfbc6e9afc0378d1ff88c795b38bf435d7412e"
   }
  },
  {
   "cell_type": "code",
   "source": [
    "# convert factor to numeric\n",
    "select_train$ExterCond2 <- as.numeric(factor(select_train$ExterCond, \n",
    "                                  levels = c(\"Ex\", \"Fa\",\"Gd\", \"TA\",\"Po\"),\n",
    "                                  labels = c(5,2,4,3,1) ,ordered = TRUE))\n",
    "select_train$HeatingQC2 <- as.numeric(factor(select_train$HeatingQC, \n",
    "                                  levels = c(\"Ex\", \"Fa\",\"Gd\", \"TA\",\"Po\"),\n",
    "                                  labels = c(5,2,4,3,1) ,ordered = TRUE))\n",
    "select_train$CentralAir2 <- as.numeric(factor(select_train$CentralAir, \n",
    "                                  levels = c(\"N\", \"Y\"),\n",
    "                                  labels = c(0,1) ,ordered = TRUE))"
   ],
   "metadata": {
    "_cell_guid": "27d4af17-a4d7-48e3-853f-e3bef6a302de",
    "_uuid": "0a3f949e0e7b8927eb62505809440f65500ef2b4"
   },
   "execution_count": null,
   "outputs": []
  },
  {
   "cell_type": "code",
   "source": [
    "#select variables that be used for model buidling and heat map\n",
    "model_var <- c('SalePrice', \n",
    "                'OverallQual','OverallCond','YearBuilt','ExterCond2',\n",
    "                'TotalBsmtSF','HeatingQC2', \n",
    "                'CentralAir2','GrLivArea','BedroomAbvGr','KitchenAbvGr',\n",
    "                'TotRmsAbvGrd','Fireplaces',\n",
    "                'GarageArea','OpenPorchSF','PoolArea',\n",
    "                 'YrSold')\n",
    "heat <- select_train[,model_var]"
   ],
   "metadata": {
    "_cell_guid": "6f0c124a-d0a2-48d4-b9df-42c32ee9d2fb",
    "_uuid": "e21be71c3c951bd0631e3b848fc3916605d132e9"
   },
   "execution_count": null,
   "outputs": []
  },
  {
   "cell_type": "markdown",
   "source": [
    "<font face=\"calibri\" size=\"4\">Next, using ggplot plot correlation heatmap. </font>"
   ],
   "metadata": {
    "_cell_guid": "87184b5e-9c5e-4ba4-bd9c-b1f21211324d",
    "_uuid": "20345d04e4568c744b32d452b806db219babf77b",
    "_execution_state": "idle"
   }
  },
  {
   "cell_type": "code",
   "source": [
    "#plot correlation heatmap for SalePrice\n",
    "options(repr.plot.width=8, repr.plot.height=6)\n",
    "library(ggplot2)\n",
    "library(reshape2)\n",
    "qplot(x=Var1, y=Var2, data=melt(cor(heat, use=\"p\")), fill=value, geom=\"tile\") +\n",
    "   scale_fill_gradient2(low = \"green\", high = \"red\", mid = \"white\", \n",
    "   midpoint = 0, limit = c(-1,1), space = \"Lab\", \n",
    "   name=\"Correlation\") +\n",
    "   theme_minimal()+ \n",
    "   theme(axis.text.x = element_text(angle = 45, vjust = 1, size = 8, hjust = 1))+\n",
    "   coord_fixed()+\n",
    "   ggtitle(\"Figure 7 Correlation Heatmap\") +\n",
    "   theme(plot.title = element_text(hjust = 0.4))"
   ],
   "metadata": {
    "scrolled": true,
    "_cell_guid": "c67451ae-d70e-4391-96fa-4b0cb49ec58d",
    "_uuid": "693dc941a1dad4d4797d538d75b0881df0f1c53c",
    "_execution_state": "idle"
   },
   "execution_count": null,
   "outputs": []
  },
  {
   "cell_type": "markdown",
   "source": [
    "<font face=\"calibri\" size=\"4\"> In this graph, <b>Red </b>indicates perfect positive correlation and <b>Green</b> indicates perfect negative correlation. As we can see, there are several variables should be paid attention to: GarageArea, Fireplaces, TotRmsAbvGrd, GrLivArea, HeatingQC, TotalBsmtSF and YearBuild."
   ],
   "metadata": {
    "_cell_guid": "fe96a3de-5f4c-450e-a950-45b835d70d4e",
    "_uuid": "e5970d19819fb0c412256469406f0bb4f290bc5e"
   }
  },
  {
   "cell_type": "markdown",
   "source": [
    "**<font face=\"calibri\" color=\"blue\" size=\"4\">2.5.2 Correlation between SalePrice and some numeric variables</font>**"
   ],
   "metadata": {
    "_cell_guid": "063972a8-4cab-4921-aeda-9d7bd257aa58",
    "_uuid": "d4622b3c7d821b7dd2f12b2685449d57262b05d3"
   }
  },
  {
   "cell_type": "markdown",
   "source": [
    "<font face=\"calibri\" size=\"4\">In this section, I am going to analyze the correlation between SalePrice and numeric variables, including <b>GrLivArea</b>,<b>TotalBsmtSF</b>, <b>TotRmsAbvGrd</b>, <b>GarageArea</b>. Different from categorical variables, here I will use scatter plot and trend line to indicate the relationship. "
   ],
   "metadata": {}
  },
  {
   "cell_type": "code",
   "source": [
    "# scatter plot of GrLiveArea\n",
    "# Change plot size to 5 x 4\n",
    "options(repr.plot.width=9, repr.plot.height=6)\n",
    "p1 <- ggplot(select_train, aes(x=GrLivArea, y=SalePrice)) + \n",
    "  geom_point(shape=1) +  \n",
    "  geom_smooth(method=lm , color=\"red\", se=FALSE)+\n",
    "  ggtitle(\"Figure 8 Scatter plot of SalePrice and GrLivArea\") +\n",
    "  theme(plot.title = element_text(hjust = 0.4))\n",
    "\n",
    "# scatter plot of TotalBsmtSF\n",
    "p2 <- ggplot(select_train, aes(x=TotalBsmtSF, y=SalePrice)) + \n",
    "  geom_point(shape=1) +  \n",
    "  geom_smooth(method=lm , color=\"red\", se=FALSE)+\n",
    "  ggtitle(\"Figure 9 Scatter plot of SalePrice and TotalBsmtSF\") +\n",
    "  theme(plot.title = element_text(hjust = 0.4))\n",
    "\n",
    "#scatter plot of TotRmsAbvGrd\n",
    "p3 <- ggplot(select_train, aes(x=TotRmsAbvGrd, y=SalePrice)) + \n",
    "  geom_point(shape=1) +  \n",
    "  geom_smooth(method=lm , color=\"red\", se=FALSE)+\n",
    "  ggtitle(\"Figure 10 Scatter plot of SalePrice and TotRmsAbvGrd\") +\n",
    "  theme(plot.title = element_text(hjust = 0.4))\n",
    "\n",
    "#scatter plot of GarageArea\n",
    "p4 <- ggplot(select_train, aes(x=GarageArea, y=SalePrice)) + \n",
    "  geom_point(shape=1) +  \n",
    "  geom_smooth(method=lm , color=\"red\", se=FALSE)+\n",
    "  ggtitle(\"Figure 11 Scatter plot of SalePrice and GarageArea\") +\n",
    "  theme(plot.title = element_text(hjust = 0.4))\n",
    "\n"
   ],
   "metadata": {
    "_cell_guid": "9f3e6c93-77c5-4a55-a301-cf5d63d3bfcc",
    "_uuid": "f31597ee6e4fd9e4da7fe5ca9caa13dcd13401b8"
   },
   "execution_count": null,
   "outputs": []
  },
  {
   "cell_type": "code",
   "source": [
    "library(gridExtra)\n",
    "grid.arrange(p1, p2,p3,p4)"
   ],
   "metadata": {
    "_cell_guid": "e042ecbe-1acc-4ba3-83e1-eef35e85425b",
    "_uuid": "a5fd0e38ddbce74b900e8469453c3bb55badd5c7"
   },
   "execution_count": null,
   "outputs": []
  },
  {
   "cell_type": "markdown",
   "source": [
    "<font face=\"calibri\" size=\"4\"> Some thoughts about these graphs:\n",
    "1. GrLivArea, TotalBsmtSF, TotRmsAbvGrd, and GarageArea are positively correlated with SalePrice, which means with the increase of GrLivArea, TotalBsmtSF, TotRmsAbvGrd and GarageArea, the SalePrice also increases. \n",
    "2. TotalBsmtSF has more concentrated distribution than others\n",
    "    "
   ],
   "metadata": {}
  },
  {
   "cell_type": "markdown",
   "source": [
    "**<font face=\"calibri\" color=\"blue\" size=\"5\">Part III  Model Fitting</font>**"
   ],
   "metadata": {
    "_cell_guid": "399b26c9-9d3d-4a93-9f21-e8d8529c3279",
    "_uuid": "73fbec09be20b3eb3167a790f23705a19249e481"
   }
  },
  {
   "cell_type": "markdown",
   "source": [
    "<font face=\"calibri\" size=\"4\"> After Descriptive Analysis we are moving into Predictive Analysis section.  There are three models here:\n",
    "<br><br><b>Linear Regresion Model</b>\n",
    "<br><br><b>Classification & Regression Trees (CART) Model</b>\n",
    "<br><br><b>Random Forest Model </b></font >"
   ],
   "metadata": {}
  },
  {
   "cell_type": "markdown",
   "source": [
    "**<font face=\"calibri\" color=\"blue\" size=\"4\">3.1 Linear Regression Model</font>**"
   ],
   "metadata": {
    "_cell_guid": "309576a2-6127-46d5-9b88-588c13978df9",
    "_uuid": "b39a9ce7e00a8228da994351d20edfcca1b2981f"
   }
  },
  {
   "cell_type": "markdown",
   "source": [
    "<font face=\"calibri\" size=\"4\">In Linear Regresion Model, the relationships between Dependent and Indepedent Variables is expressed by equation with coefficients. The aim of this model is to minimize the sum of the squared residuals.  Here I select 16 variables to fit into this model. "
   ],
   "metadata": {}
  },
  {
   "cell_type": "markdown",
   "source": [
    "<font face=\"calibri\" size=\"4\">**Variables in this model**: \n",
    "<br><br>SalePrice,  OverallQual, OverallCond, YearBuilt, ExterQual2, ExterCond2, TotalBsmtSF, HeatingQC2, CentralAir2, GrLivArea, BedroomAbvGr, KitchenAbvGr, TotRmsAbvGrd, Fireplaces, GarageArea,<br>\n",
    "OpenPorchSF, PoolArea,YrSold</font>"
   ],
   "metadata": {
    "_cell_guid": "e01aae2f-ad4a-4c85-bcf7-0b311e670968",
    "_uuid": "427e8da2c66f08c8ad1675dfc8e397b9261d246e"
   }
  },
  {
   "cell_type": "markdown",
   "source": [
    "<font face=\"calibri\" size=\"4\">Step 1: choose variables and transfer SalePrice into log term"
   ],
   "metadata": {}
  },
  {
   "cell_type": "code",
   "source": [
    "#prediction of lm\n",
    "#build model dataset for linear regression \n",
    "model_lin <- select_train[, model_var]\n",
    "model_lin$lSalePrice <- log(model_lin$SalePrice)"
   ],
   "metadata": {
    "_cell_guid": "df5856de-ffd6-4f8f-bf75-5126cd992388",
    "_uuid": "e40100d3bab0942936c654b76c908742c7c96efb"
   },
   "execution_count": null,
   "outputs": []
  },
  {
   "cell_type": "markdown",
   "source": [
    "<font face=\"calibri\" size=\"4\">Step 2: divide datasets into two parts -- training and validation, to prepare for prediction later"
   ],
   "metadata": {}
  },
  {
   "cell_type": "code",
   "source": [
    "#partition data\n",
    "set.seed(10000)\n",
    "train.index <- sample(c(1:dim(model_lin)[1]), dim(model_lin)[1]*0.8)\n",
    "model_lin_train = model_lin[train.index,]\n",
    "model_lin_valid <- model_lin[-train.index,]"
   ],
   "metadata": {
    "_cell_guid": "2952fb2a-c370-4b69-9411-03149f9e35a7",
    "_uuid": "d02e75b1a6be0f35c116af0f47b9928fb05cd327"
   },
   "execution_count": null,
   "outputs": []
  },
  {
   "cell_type": "markdown",
   "source": [
    "<font face=\"calibri\" size=\"4\">Step 3: run regression"
   ],
   "metadata": {}
  },
  {
   "cell_type": "code",
   "source": [
    "#use lm() to run linear regression of SalePrice on all variables in model dataset\n",
    "linreg <- lm(lSalePrice~.-SalePrice, data = model_lin_train)\n",
    "summary(linreg)"
   ],
   "metadata": {
    "_cell_guid": "1f8e8544-137c-4849-b69e-9f90eb3eb367",
    "_uuid": "2590d5694b3cc5960bbd515275d3485d15e96892"
   },
   "execution_count": null,
   "outputs": []
  },
  {
   "cell_type": "markdown",
   "source": [
    "<font face=\"calibri\" size=\"4\">Step 4: forecast and check for model accuracy"
   ],
   "metadata": {}
  },
  {
   "cell_type": "code",
   "source": [
    "library(forecast)\n",
    "#use predict() to make prediction on a new set\n",
    "pred1 <- predict(linreg,model_lin_valid,type = \"response\")\n",
    "residuals <- model_lin_valid$lSalePrice - pred1\n",
    "linreg_pred <- data.frame(\"Predicted\" = pred1, \"Actual\" = model_lin_valid$lSalePrice, \"Residual\" = residuals)\n",
    "accuracy(pred1, model_lin_valid$lSalePrice)"
   ],
   "metadata": {
    "_cell_guid": "e8bfe527-4152-462e-8154-36f05872a274",
    "_uuid": "aa8114339f87705a02544da132b851cbb6538919"
   },
   "execution_count": null,
   "outputs": []
  },
  {
   "cell_type": "markdown",
   "source": [
    "**<font face=\"calibri\" color=\"blue\" size=\"4\">3.2 CART</font>**"
   ],
   "metadata": {
    "_cell_guid": "7d96027b-f81d-4641-b9ae-c86d679e709e",
    "_uuid": "03212d11522c0b4c9094d934106b15516a5e9d71"
   }
  },
  {
   "cell_type": "code",
   "source": [
    "# classification tree\n",
    "library(rpart)\n",
    "library(rpart.plot)\n",
    "\n",
    "class.tree <- rpart(lSalePrice~.-SalePrice,\n",
    "                    data = model_lin_train,control = rpart.control(cp = 0.01))\n",
    "\n",
    "plotcp(class.tree)\n",
    "printcp(class.tree)"
   ],
   "metadata": {
    "_cell_guid": "16f1dbd0-b435-457a-aeee-eec2cc4807c4",
    "_uuid": "e1251b48081a14555cb3ffbfc0d338fe43cd9c53"
   },
   "execution_count": null,
   "outputs": []
  },
  {
   "cell_type": "code",
   "source": [
    "rpart.plot(class.tree, \n",
    "           box.palette=\"GnBu\",\n",
    "           branch.lty=3, shadow.col=\"gray\", nn=TRUE)"
   ],
   "metadata": {
    "_cell_guid": "fb9926dc-0c19-40d0-ad7e-6c8f92111d65",
    "_uuid": "e56cb5f8f7a21c2afa71994cf5aae4cd7f928c26"
   },
   "execution_count": null,
   "outputs": []
  },
  {
   "cell_type": "markdown",
   "source": [
    "**<font face=\"calibri\" color=\"blue\" size=\"4\">3.3 Random Forest</font>**"
   ],
   "metadata": {
    "_cell_guid": "145e0ec6-5435-4b58-a86c-d0bf0eac6cfb",
    "_uuid": "d5ad20a2bc443f630dc0e12190da27884860bad0"
   }
  },
  {
   "cell_type": "code",
   "source": [
    "#Random Forest\n",
    "library(randomForest)\n",
    "RF <- randomForest(lSalePrice ~.-SalePrice, data = model_lin_train, \n",
    "                   importance =TRUE,ntree=500,nodesize=7, na.action=na.roughfix)"
   ],
   "metadata": {
    "_cell_guid": "d3cf4af4-624c-4dd9-8deb-91fcd12c5d88",
    "_uuid": "a80d54b0b002a15272aa1bbe2d4c861d903e8858"
   },
   "execution_count": null,
   "outputs": []
  },
  {
   "cell_type": "code",
   "source": [
    "# variable importance\n",
    "options(repr.plot.width=9, repr.plot.height=6)\n",
    "varImpPlot(RF, type=1)"
   ],
   "metadata": {
    "_cell_guid": "bc07b4e9-5a00-46b3-a60b-2112ebbdb795",
    "_uuid": "08218a0af3d132e450ca6f34732454b847252039"
   },
   "execution_count": null,
   "outputs": []
  },
  {
   "cell_type": "code",
   "source": [
    "#prediction\n",
    "rf.pred <- predict(RF, newdata=model_lin_valid )\n",
    "accuracy(rf.pred, model_lin_valid$lSalePrice)"
   ],
   "metadata": {
    "_cell_guid": "3dac8612-f39a-4b2a-90e3-c4c5d9ca2f59",
    "_uuid": "1094808b612bebf73060b074c19177a6728c9575"
   },
   "execution_count": null,
   "outputs": []
  },
  {
   "cell_type": "code",
   "source": [
    "plot(rf.pred, model_lin_valid$lSalePrice, main = \"Figure 9 Predicted vs. Actual log SalePrice\") \n",
    "abline(0,1)"
   ],
   "metadata": {
    "_cell_guid": "0a7bc7b1-9589-43b4-9848-655d7585ec5a",
    "_uuid": "effd7f6dced26dd2e723e6c47456744cfe6877d9"
   },
   "execution_count": null,
   "outputs": []
  }
 ]
}
